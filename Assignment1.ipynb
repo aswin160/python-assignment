{
  "nbformat": 4,
  "nbformat_minor": 0,
  "metadata": {
    "colab": {
      "provenance": []
    },
    "kernelspec": {
      "name": "python3",
      "display_name": "Python 3"
    },
    "language_info": {
      "name": "python"
    }
  },
  "cells": [
    {
      "cell_type": "code",
      "execution_count": 4,
      "metadata": {
        "colab": {
          "base_uri": "https://localhost:8080/"
        },
        "id": "HmqLfrUu669_",
        "outputId": "526466fc-e7f8-4232-d581-8b0aa710caa4"
      },
      "outputs": [
        {
          "output_type": "stream",
          "name": "stdout",
          "text": [
            "Enter the name:aswin\n",
            "Enter Roll Number:23\n",
            "Enter the mark:22\n",
            "Name: aswin\n",
            "Roll number: 23\n",
            "Mark: 22\n"
          ]
        }
      ],
      "source": [
        "name=input('Enter the name:')\n",
        "rollnum=input('Enter Roll Number:')\n",
        "score=int(input('Enter the mark:'))\n",
        "print('Name:',name)\n",
        "print('Roll number:',rollnum)\n",
        "print('Mark:',score)"
      ]
    },
    {
      "cell_type": "code",
      "source": [
        "temp=int(input('Enter Temprature in Fahrenheit:'))\n",
        "print('Temprature in celsius:',((temp-32)/9)*5)"
      ],
      "metadata": {
        "colab": {
          "base_uri": "https://localhost:8080/"
        },
        "id": "MIxvx_PO7dGw",
        "outputId": "da85eda4-a7d0-4175-ea8e-bf382283e46c"
      },
      "execution_count": 6,
      "outputs": [
        {
          "output_type": "stream",
          "name": "stdout",
          "text": [
            "Enter Temprature in Fahrenheit:41\n",
            "Temprature in celsius: 5.0\n"
          ]
        }
      ]
    },
    {
      "cell_type": "code",
      "source": [
        "n1=int(input('Enter Number 1:'))\n",
        "n2=int(input('Enter Number 2:'))\n",
        "print('The product of two numbers is:',n1*n2)"
      ],
      "metadata": {
        "colab": {
          "base_uri": "https://localhost:8080/"
        },
        "id": "gCQUwvsP-ZH8",
        "outputId": "eff263af-7cc6-4704-a190-0d8d9e53ed09"
      },
      "execution_count": 7,
      "outputs": [
        {
          "output_type": "stream",
          "name": "stdout",
          "text": [
            "Enter Number 1:3\n",
            "Enter Number 2:2\n",
            "The product of two numbers is: 6\n"
          ]
        }
      ]
    },
    {
      "cell_type": "code",
      "source": [
        "string='Learn Python by Developing a Website'\n",
        "star='**'\n",
        "new=list(string)\n",
        "new.insert(5,star)\n",
        "new.insert(13,star)\n",
        "new.insert(31,star)\n",
        "new.insert(39,star)\n",
        "new= ''.join(new)\n",
        "print(new)\n"
      ],
      "metadata": {
        "colab": {
          "base_uri": "https://localhost:8080/"
        },
        "id": "_JhH_J4O--GT",
        "outputId": "4c50756b-efea-40ab-cebd-fab292c8c93d"
      },
      "execution_count": 31,
      "outputs": [
        {
          "output_type": "stream",
          "name": "stdout",
          "text": [
            "Learn** Python** by Developing a **Website**\n"
          ]
        }
      ]
    },
    {
      "cell_type": "markdown",
      "source": [],
      "metadata": {
        "id": "7cA7xyWiH8sY"
      }
    },
    {
      "cell_type": "code",
      "source": [
        "rad=int(input('Enter The Radius of Circle:'))\n",
        "print('Area =', 3.14* rad**2)\n"
      ],
      "metadata": {
        "colab": {
          "base_uri": "https://localhost:8080/"
        },
        "id": "ANWMz5OxH4wg",
        "outputId": "2284ce05-acec-417b-9046-dfbb4eb24910"
      },
      "execution_count": 29,
      "outputs": [
        {
          "output_type": "stream",
          "name": "stdout",
          "text": [
            "Enter The Radius of Circle:2\n",
            "Area = 12.56\n"
          ]
        }
      ]
    },
    {
      "cell_type": "code",
      "source": [
        "num=int(input('Enter the number to be inserted:'))\n",
        "pos=int(input('Enter the position to be inserted:'))\n",
        "list1=[3,4]\n",
        "list1.insert(pos,num)\n",
        "print(list1)"
      ],
      "metadata": {
        "colab": {
          "base_uri": "https://localhost:8080/"
        },
        "id": "5Wl8MlWXK8yi",
        "outputId": "01c6493f-649a-497c-8922-8e029fe295ce"
      },
      "execution_count": 39,
      "outputs": [
        {
          "output_type": "stream",
          "name": "stdout",
          "text": [
            "Enter the number to be inserted:5\n",
            "Enter the position to be inserted:1\n",
            "[3, 5, 4]\n"
          ]
        }
      ]
    },
    {
      "cell_type": "code",
      "source": [
        "sample_dict = { \"name\": \"John\", \"age\":5, \"salary\": 8000, \"city\": \"New York\"}\n",
        "sample_dict[\"city\"]=\"France\"\n",
        "sample_dict\n"
      ],
      "metadata": {
        "colab": {
          "base_uri": "https://localhost:8080/"
        },
        "id": "SntYOJ7HMAMM",
        "outputId": "d0063841-0861-4ff9-9c89-b4b5e263e935"
      },
      "execution_count": 44,
      "outputs": [
        {
          "output_type": "execute_result",
          "data": {
            "text/plain": [
              "{'name': 'John', 'age': 5, 'salary': 8000, 'city': 'France'}"
            ]
          },
          "metadata": {},
          "execution_count": 44
        }
      ]
    },
    {
      "cell_type": "code",
      "source": [
        "sample_dict = {\n",
        "'emp1': {'name': 'John', 'salary': 7500},\n",
        "'emp2': {'name': 'Emma', 'salary': 8000},\n",
        "'emp3': {'name': 'Brad', 'salary': 500}\n",
        "}\n",
        "\n",
        "sample_dict['emp3']['salary']=8500\n",
        "sample_dict"
      ],
      "metadata": {
        "colab": {
          "base_uri": "https://localhost:8080/"
        },
        "id": "OFcaHbzdOLAf",
        "outputId": "c67d601b-9222-4dd3-ea1e-48e8b879906d"
      },
      "execution_count": 49,
      "outputs": [
        {
          "output_type": "execute_result",
          "data": {
            "text/plain": [
              "{'emp1': {'name': 'John', 'salary': 7500},\n",
              " 'emp2': {'name': 'Emma', 'salary': 8000},\n",
              " 'emp3': {'name': 'Brad', 'salary': 8500}}"
            ]
          },
          "metadata": {},
          "execution_count": 49
        }
      ]
    },
    {
      "cell_type": "code",
      "source": [
        "  tuple1 = (10, 20, 43, 54, 56, 68)\n",
        "  tuple2 = tuple1[2:4]\n",
        "  tuple2"
      ],
      "metadata": {
        "colab": {
          "base_uri": "https://localhost:8080/"
        },
        "id": "W5Mf-EPXQR7y",
        "outputId": "c9649b70-2d7e-404f-fb04-32deb0e122c1"
      },
      "execution_count": 53,
      "outputs": [
        {
          "output_type": "execute_result",
          "data": {
            "text/plain": [
              "(43, 54)"
            ]
          },
          "metadata": {},
          "execution_count": 53
        }
      ]
    },
    {
      "cell_type": "code",
      "source": [
        "tuple1 = (50, 10, 60, 70, 50,83,567,50,81)\n",
        "tuple1.count(50)"
      ],
      "metadata": {
        "colab": {
          "base_uri": "https://localhost:8080/"
        },
        "id": "INBS4UmwSrTT",
        "outputId": "b780219f-fb92-49f4-c201-a216395bafb7"
      },
      "execution_count": 55,
      "outputs": [
        {
          "output_type": "execute_result",
          "data": {
            "text/plain": [
              "3"
            ]
          },
          "metadata": {},
          "execution_count": 55
        }
      ]
    },
    {
      "cell_type": "code",
      "source": [],
      "metadata": {
        "id": "9gNXVEXATEl-"
      },
      "execution_count": null,
      "outputs": []
    },
    {
      "cell_type": "code",
      "source": [],
      "metadata": {
        "id": "-HFNVvTpUaDr"
      },
      "execution_count": null,
      "outputs": []
    }
  ]
}