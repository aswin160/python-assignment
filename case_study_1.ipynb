{
  "nbformat": 4,
  "nbformat_minor": 0,
  "metadata": {
    "colab": {
      "provenance": []
    },
    "kernelspec": {
      "name": "python3",
      "display_name": "Python 3"
    },
    "language_info": {
      "name": "python"
    }
  },
  "cells": [
    {
      "cell_type": "code",
      "execution_count": null,
      "metadata": {
        "colab": {
          "base_uri": "https://localhost:8080/"
        },
        "id": "sBlWPBZG_R5h",
        "outputId": "a5472cc2-42b0-43b2-f234-7b32d778c52d"
      },
      "outputs": [
        {
          "output_type": "stream",
          "name": "stdout",
          "text": [
            "Enter marks: 44\n",
            "Grade: E\n"
          ]
        }
      ],
      "source": [
        "marks = int(input(\"Enter marks: \"))\n",
        "\n",
        "if marks < 25:\n",
        "    print(\"Grade: F\")\n",
        "elif marks >= 25 and marks < 45:\n",
        "    print(\"Grade: E\")\n",
        "elif marks >= 45 and marks < 50:\n",
        "    print(\"Grade: D\")\n",
        "elif marks >= 50 and marks < 60:\n",
        "    print(\"Grade: C\")\n",
        "elif marks >= 60 and marks < 80:\n",
        "    print(\"Grade: B\")\n",
        "else:\n",
        "    print(\"Grade: A\")\n"
      ]
    },
    {
      "cell_type": "code",
      "source": [
        "def non_repeating_names(names):\n",
        "    result = []\n",
        "    for name in names:\n",
        "        repeating = False\n",
        "        for i in range(len(name)):\n",
        "            if name[i] in name[:i] + name[i+1:]:\n",
        "                repeating = True\n",
        "                break\n",
        "        if not repeating:\n",
        "            result.append(name)\n",
        "    return result\n",
        "\n",
        "names = ['John', 'Peter', 'Meera', 'Mini', 'Krishna']\n",
        "print(non_repeating_names(names))\n"
      ],
      "metadata": {
        "colab": {
          "base_uri": "https://localhost:8080/"
        },
        "id": "oifUqfo3_elk",
        "outputId": "69388bee-07bd-420e-ba94-e09e5f001acc"
      },
      "execution_count": null,
      "outputs": [
        {
          "output_type": "stream",
          "name": "stdout",
          "text": [
            "['John', 'Krishna']\n"
          ]
        }
      ]
    },
    {
      "cell_type": "code",
      "source": [
        "length = float(input(\"Enter the length of the rectangle: \"))\n",
        "breadth = float(input(\"Enter the breadth of the rectangle: \"))\n",
        "\n",
        "if length == breadth:\n",
        "  print(\"The rectangle is a square.\")\n",
        "else:\n",
        "  print(\"The rectangle is not a square.\")\n"
      ],
      "metadata": {
        "colab": {
          "base_uri": "https://localhost:8080/"
        },
        "id": "EYPSPaN8AVLl",
        "outputId": "d685dd93-2a39-4645-fa9f-eb586fbbfd08"
      },
      "execution_count": null,
      "outputs": [
        {
          "output_type": "stream",
          "name": "stdout",
          "text": [
            "Enter the length of the rectangle: 22\n",
            "Enter the breadth of the rectangle: 3\n",
            "The rectangle is not a square.\n"
          ]
        }
      ]
    },
    {
      "cell_type": "code",
      "source": [
        "classes_held = int(input(\"Enter number of classes held: \"))\n",
        "classes_attended = int(input(\"Enter number of classes attended: \"))\n",
        "\n",
        "attendance_percentage = (classes_attended / classes_held) * 100\n",
        "\n",
        "print(\"Attendance Percentage:\", attendance_percentage)\n",
        "\n",
        "if attendance_percentage >= 75:\n",
        "    print(\"Student is allowed to sit in the exam.\")\n",
        "else:\n",
        "    print(\"Student is not allowed to sit in the exam.\")\n"
      ],
      "metadata": {
        "colab": {
          "base_uri": "https://localhost:8080/"
        },
        "id": "WzVFHgGnCEKK",
        "outputId": "09bf2809-1ca1-47b3-a15f-8cc317ecd795"
      },
      "execution_count": null,
      "outputs": [
        {
          "output_type": "stream",
          "name": "stdout",
          "text": [
            "Enter number of classes held: 32\n",
            "Enter number of classes attended: 22\n",
            "Attendance Percentage: 68.75\n",
            "Student is not allowed to sit in the exam.\n"
          ]
        }
      ]
    },
    {
      "cell_type": "code",
      "source": [
        "def create_lists(length_of_list, elements_of_list):\n",
        "    sum_of_elements = sum(elements_of_list)\n",
        "    even_list = [x for x in elements_of_list if x % 2 == 0]\n",
        "    odd_list = [x for x in elements_of_list if x % 2 != 0]\n",
        "    return sum_of_elements, even_list, odd_list\n",
        "\n",
        "length_of_list = int(input(\"Enter the length of the list: \"))\n",
        "elements_of_list = [int(input(\"Enter element \" + str(i + 1) + \": \")) \n",
        "for i in range(length_of_list)]\n",
        "sum_of_elements, even_list, odd_list = create_lists(length_of_list, elements_of_list)\n",
        "\n",
        "print(\"Sum of elements:\", sum_of_elements)\n",
        "print(\"Even list:\", even_list)\n",
        "print(\"Odd list:\", odd_list)\n"
      ],
      "metadata": {
        "colab": {
          "base_uri": "https://localhost:8080/"
        },
        "id": "ce8uJqhMCVrI",
        "outputId": "31943734-c8db-4b58-edc4-fbb8c7ceaa07"
      },
      "execution_count": null,
      "outputs": [
        {
          "output_type": "stream",
          "name": "stdout",
          "text": [
            "Enter the length of the list: 4\n",
            "Enter element 1: 2\n",
            "Enter element 2: 4\n",
            "Enter element 3: 2\n",
            "Enter element 4: 5\n",
            "Sum of elements: 13\n",
            "Even list: [2, 4, 2]\n",
            "Odd list: [5]\n"
          ]
        }
      ]
    },
    {
      "cell_type": "code",
      "source": [
        "greeting = \"Hello, welcome to our ecommerce website! How can I help you today?\"\n",
        "\n",
        "print(greeting)\n",
        "\n",
        "while True:\n",
        "    user_input = input(\"What would you like to do? (type 'exit' to quit)\").lower()\n",
        "\n",
        "    if user_input == \"exit\":\n",
        "        print(\"Thank you for visiting our website. Have a great day!\")\n",
        "        break\n",
        "    elif user_input == \"browse products\":\n",
        "        print(\"Here is a list of our products:\")\n",
        "        print(\"1. Product A\")\n",
        "        print(\"2. Product B\")\n",
        "        print(\"3. Product C\")\n",
        "    elif user_input == \"check price\":\n",
        "        product = input(\"Which product would you like to check the price of?\")\n",
        "        if product == \"product a\":\n",
        "            print(\"The price of Product A is $100\")\n",
        "        elif product == \"product b\":\n",
        "            print(\"The price of Product B is $200\")\n",
        "        elif product == \"product c\":\n",
        "            print(\"The price of Product C is $300\")\n",
        "        else:\n",
        "            print(\"Sorry, that product is not available in our store.\")\n",
        "    elif user_input == \"make a purchase\":\n",
        "        product = input(\"Which product would you like to purchase?\")\n",
        "        if product == \"product a\":\n",
        "            print(\"The total cost of Product A is $100. Enter your payment details to complete the purchase.\")\n",
        "        elif product == \"product b\":\n",
        "            print(\"The total cost of Product B is $200. Enter your payment details to complete the purchase.\")\n",
        "        elif product == \"product c\":\n",
        "            print(\"The total cost of Product C is $300. Enter your payment details to complete the purchase.\")\n",
        "        else:\n",
        "            print(\"Sorry, that product is not available in our store.\")\n",
        "    else:\n",
        "        print(\"Sorry, I didn't understand your request\")\n"
      ],
      "metadata": {
        "colab": {
          "base_uri": "https://localhost:8080/"
        },
        "id": "4iLNhaezDuv1",
        "outputId": "024f45f4-a205-4c79-f7e5-2be9a1c56001"
      },
      "execution_count": null,
      "outputs": [
        {
          "output_type": "stream",
          "name": "stdout",
          "text": [
            "Hello, welcome to our ecommerce website! How can I help you today?\n",
            "What would you like to do? (type 'exit' to quit)browse products\n",
            "Here is a list of our products:\n",
            "1. Product A\n",
            "2. Product B\n",
            "3. Product C\n",
            "What would you like to do? (type 'exit' to quit)purchase prod\n",
            "Sorry, I didn't understand your request\n",
            "What would you like to do? (type 'exit' to quit)make a purchase\n",
            "Which product would you like to purchase?product b\n",
            "The total cost of Product B is $200. Enter your payment details to complete the purchase.\n",
            "What would you like to do? (type 'exit' to quit)exit\n",
            "Thank you for visiting our website. Have a great day!\n"
          ]
        }
      ]
    },
    {
      "cell_type": "code",
      "source": [
        "import math\n",
        "\n",
        "def roots(a, b, c):\n",
        "    if a == 0:\n",
        "        print(\"This is not a quadratic equation.\")\n",
        "        return\n",
        "  \n",
        "    d = b**2 - 4*a*c\n",
        "    sqrt_val = math.sqrt(abs(d))\n",
        "  \n",
        "    if d > 0:\n",
        "        print(\"Real and Distinct Roots\")\n",
        "        root1 = (-b + sqrt_val)/(2*a)\n",
        "        root2 = (-b - sqrt_val)/(2*a)\n",
        "        print(\"The roots are %.2f and %.2f\" % (root1, root2))\n",
        "  \n",
        "    elif d == 0:\n",
        "        print(\"Real and Equal Roots\")\n",
        "        root1 = root2 = -b/(2*a)\n",
        "        print(\"The roots are %.2f and %.2f\" % (root1, root2))\n",
        "  \n",
        "    else:\n",
        "        print(\"Imaginary Roots\")\n",
        "        real = -b/(2*a)\n",
        "        imag = sqrt_val/(2*a)\n",
        "        print(\"The roots are %.2f + %.2f i and %.2f - %.2f i\" % (real, imag, real, imag))\n",
        "\n",
        "a = float(input(\"Enter the coefficient of x^2: \"))\n",
        "b = float(input(\"Enter the coefficient of x: \"))\n",
        "c = float(input(\"Enter the constant: \"))\n",
        "\n",
        "roots(a, b, c)\n"
      ],
      "metadata": {
        "id": "ysLD8iBYFB-c",
        "colab": {
          "base_uri": "https://localhost:8080/"
        },
        "outputId": "76067119-9969-4fd4-af77-eb25a6e434b0"
      },
      "execution_count": 1,
      "outputs": [
        {
          "output_type": "stream",
          "name": "stdout",
          "text": [
            "Enter the coefficient of x^2: 3\n",
            "Enter the coefficient of x: 5\n",
            "Enter the constant: 6\n",
            "Imaginary Roots\n",
            "The roots are -0.83 + 1.14 i and -0.83 - 1.14 i\n"
          ]
        }
      ]
    },
    {
      "cell_type": "code",
      "source": [
        "start_num = 1\n",
        "end_num = 10\n",
        "previous_num = 0\n",
        "\n",
        "for current_num in range(start_num, end_num+1):\n",
        "    sum = current_num + previous_num\n",
        "    print(\"Current Number:\", current_num, \"Previous Number:\", previous_num, \"Sum:\", sum)\n",
        "    previous_num = current_num\n"
      ],
      "metadata": {
        "colab": {
          "base_uri": "https://localhost:8080/"
        },
        "id": "hKR3bV3onCyJ",
        "outputId": "5726343e-2fe6-40b2-e9f5-db543c4ac59e"
      },
      "execution_count": 2,
      "outputs": [
        {
          "output_type": "stream",
          "name": "stdout",
          "text": [
            "Current Number: 1 Previous Number: 0 Sum: 1\n",
            "Current Number: 2 Previous Number: 1 Sum: 3\n",
            "Current Number: 3 Previous Number: 2 Sum: 5\n",
            "Current Number: 4 Previous Number: 3 Sum: 7\n",
            "Current Number: 5 Previous Number: 4 Sum: 9\n",
            "Current Number: 6 Previous Number: 5 Sum: 11\n",
            "Current Number: 7 Previous Number: 6 Sum: 13\n",
            "Current Number: 8 Previous Number: 7 Sum: 15\n",
            "Current Number: 9 Previous Number: 8 Sum: 17\n",
            "Current Number: 10 Previous Number: 9 Sum: 19\n"
          ]
        }
      ]
    },
    {
      "cell_type": "code",
      "source": [
        "def is_prime(num):\n",
        "    if num < 2:\n",
        "        return False\n",
        "    for i in range(2, num):\n",
        "        if num % i == 0:\n",
        "            return False\n",
        "    return True\n",
        "\n",
        "def find_primes_in_range(start, end):\n",
        "    prime_numbers = []\n",
        "    for num in range(start, end + 1):\n",
        "        if is_prime(num):\n",
        "            prime_numbers.append(num)\n",
        "    return prime_numbers\n",
        "\n",
        "start = int(input(\"Enter the start of range: \"))\n",
        "end = int(input(\"Enter the end of range: \"))\n",
        "\n",
        "primes = find_primes_in_range(start, end)\n",
        "\n",
        "if primes:\n",
        "    print(\"Prime numbers in the given range:\", *primes)\n",
        "else:\n",
        "    print(\"No prime numbers found in the given range.\")\n"
      ],
      "metadata": {
        "colab": {
          "base_uri": "https://localhost:8080/"
        },
        "id": "Vj69HwS5neRd",
        "outputId": "5ad03ed1-8010-4b69-8a6b-be2e3dcaac76"
      },
      "execution_count": 3,
      "outputs": [
        {
          "output_type": "stream",
          "name": "stdout",
          "text": [
            "Enter the start of range: 5\n",
            "Enter the end of range: 10\n",
            "Prime numbers in the given range: 5 7\n"
          ]
        }
      ]
    },
    {
      "cell_type": "code",
      "source": [
        "nterms = int(input(\"Enter the range: \"))\n",
        "if nterms <= 0:\n",
        "    print(\"Please enter a positive integer\")\n",
        "else:\n",
        "    print(\"Fibonacci series:\")\n",
        "    a, b = 0, 1\n",
        "    for i in range(nterms):\n",
        "        print(a)\n",
        "        a, b = b, a + b\n"
      ],
      "metadata": {
        "colab": {
          "base_uri": "https://localhost:8080/"
        },
        "id": "3ndLKWfun1SD",
        "outputId": "c1f661b2-293a-4cf3-b8af-c120eb6c0602"
      },
      "execution_count": 4,
      "outputs": [
        {
          "output_type": "stream",
          "name": "stdout",
          "text": [
            "Enter the range: 10\n",
            "Fibonacci series:\n",
            "0\n",
            "1\n",
            "1\n",
            "2\n",
            "3\n",
            "5\n",
            "8\n",
            "13\n",
            "21\n",
            "34\n"
          ]
        }
      ]
    },
    {
      "cell_type": "code",
      "source": [],
      "metadata": {
        "id": "vPxwk_kKofeI"
      },
      "execution_count": null,
      "outputs": []
    }
  ]
}